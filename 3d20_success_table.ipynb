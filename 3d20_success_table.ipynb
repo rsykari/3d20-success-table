{
 "cells": [
  {
   "cell_type": "markdown",
   "metadata": {},
   "source": [
    "### 3d20 dice roll success table\n",
    "\n",
    "This code can be used to create an array that contains probabilities of success when rolling 3 20-sided die and comparing the results against 2 different values, a skill value and a difficulty class. It can be a useful reference for a tabletop game depending on its rules.\n",
    "\n",
    "The skill value represents a character's aptitude for the check, from 1 to 20. \n",
    "The difficulty class represents the extent of the dice challenge, from 2 to 20.\n",
    "\n",
    "The code isn't optimized at all, since it only needs to run once to give the results. It outputs a 2D array that contains probabilities of success for each possible instance of skill and difficulty."
   ]
  },
  {
   "cell_type": "code",
   "execution_count": 108,
   "metadata": {},
   "outputs": [],
   "source": [
    "import numpy as np\n",
    "\n",
    "# Define the problem\n",
    "die = 20\n",
    "nof_dice = 3\n",
    "outcomes = die ** nof_dice\n",
    "\n",
    "# Define the dimensions of the sample space\n",
    "sample_space = np.zeros(shape=(outcomes, nof_dice), dtype=int)\n"
   ]
  },
  {
   "cell_type": "code",
   "execution_count": 109,
   "metadata": {},
   "outputs": [],
   "source": [
    "# Assign proper dice values to the sample space\n",
    "# Currently 3 dice supported, uncommenting can enable 2 or 4 instead\n",
    "for a in range(die):\n",
    "    for b in range(die):\n",
    "        # sample_space[die*a + b] = [a+1, b+1] \n",
    "        for c in range(die):\n",
    "            sample_space[die**2*a + die*b + c] = [a+1, b+1, c+1]\n",
    "            # for d in range(die):\n",
    "                # sample_space[die**3*a + die**2*b + die*c + d] = [a+1, b+1, c+1, d+1]\n",
    "        "
   ]
  },
  {
   "cell_type": "code",
   "execution_count": 110,
   "metadata": {},
   "outputs": [],
   "source": [
    "# Checks the successfulness of a dice roll, given \n",
    "# a sample, the skill rank and the difficulty class.\n",
    "def check_success(sample, skill, dc):\n",
    "    \n",
    "    ## Find the die roll(s) closest to the skill value\n",
    "    distances = np.abs(np.subtract(np.copy(sample), skill))\n",
    "    closest = np.where(distances == min(distances))\n",
    "    \n",
    "    ## Select the closest die or the largest in case of a tie\n",
    "    if len(closest) == 1:\n",
    "        result = sample[distances.argmin()]\n",
    "    else:\n",
    "        result = max(np.where(sample==closest))\n",
    "        \n",
    "    ## Check if the resultant dice value meets or exceeds the required difficulty\n",
    "    return 1 if result >= dc else 0"
   ]
  },
  {
   "cell_type": "code",
   "execution_count": 112,
   "metadata": {},
   "outputs": [],
   "source": [
    "# Calculates the probability of success, given \n",
    "# the sample space, skill level and roll difficulty class\n",
    "def check_probability(sample_space, skill, dc):\n",
    "    count = 0\n",
    "    checks = len(sample_space)\n",
    "    for x in range(checks):\n",
    "        count += check_success(sample_space[x], skill, dc)\n",
    "        \n",
    "    return count / checks"
   ]
  },
  {
   "cell_type": "code",
   "execution_count": 113,
   "metadata": {},
   "outputs": [],
   "source": [
    "# Initialize success table\n",
    "success_table = np.zeros(shape=(die, die-1), dtype=float)\n",
    "\n",
    "# Calculate probabilities given skill ranges of 1-20 and DC ranges of 2-20\n",
    "for skill in range (1, die+1):\n",
    "    for dc in range (2, die+1):\n",
    "        success_table[skill-1, dc-2] = check_probability(sample_space, skill, dc)"
   ]
  },
  {
   "cell_type": "code",
   "execution_count": 114,
   "metadata": {},
   "outputs": [
    {
     "name": "stdout",
     "output_type": "stream",
     "text": [
      "[[0.8574 0.7290 0.6141 0.5120 0.4219 0.3430 0.2746 0.2160 0.1664 0.1250\n",
      "  0.0911 0.0640 0.0429 0.0270 0.0156 0.0080 0.0034 0.0010 0.0001]\n",
      " [0.8784 0.7358 0.6141 0.5120 0.4219 0.3430 0.2746 0.2160 0.1664 0.1250\n",
      "  0.0911 0.0640 0.0429 0.0270 0.0156 0.0080 0.0034 0.0010 0.0001]\n",
      " [0.9039 0.7823 0.6396 0.5180 0.4219 0.3430 0.2746 0.2160 0.1664 0.1250\n",
      "  0.0911 0.0640 0.0429 0.0270 0.0156 0.0080 0.0034 0.0010 0.0001]\n",
      " [0.9264 0.8303 0.7086 0.5660 0.4444 0.3483 0.2746 0.2160 0.1664 0.1250\n",
      "  0.0911 0.0640 0.0429 0.0270 0.0156 0.0080 0.0034 0.0010 0.0001]\n",
      " [0.9459 0.8722 0.7761 0.6545 0.5119 0.3902 0.2941 0.2205 0.1664 0.1250\n",
      "  0.0911 0.0640 0.0429 0.0270 0.0156 0.0080 0.0034 0.0010 0.0001]\n",
      " [0.9624 0.9083 0.8346 0.7385 0.6169 0.4743 0.3526 0.2565 0.1829 0.1288\n",
      "  0.0911 0.0640 0.0429 0.0270 0.0156 0.0080 0.0034 0.0010 0.0001]\n",
      " [0.9759 0.9383 0.8841 0.8105 0.7144 0.5927 0.4501 0.3285 0.2324 0.1588\n",
      "  0.1046 0.0670 0.0429 0.0270 0.0156 0.0080 0.0034 0.0010 0.0001]\n",
      " [0.9864 0.9623 0.9246 0.8705 0.7969 0.7007 0.5791 0.4365 0.3149 0.2188\n",
      "  0.1451 0.0910 0.0534 0.0293 0.0156 0.0080 0.0034 0.0010 0.0001]\n",
      " [0.9939 0.9802 0.9561 0.9185 0.8644 0.7907 0.6946 0.5730 0.4304 0.3088\n",
      "  0.2126 0.1390 0.0849 0.0473 0.0231 0.0095 0.0034 0.0010 0.0001]\n",
      " [0.9984 0.9922 0.9786 0.9545 0.9169 0.8628 0.7891 0.6930 0.5714 0.4288\n",
      "  0.3071 0.2110 0.1374 0.0833 0.0456 0.0215 0.0079 0.0018 0.0001]\n",
      " [0.9999 0.9982 0.9921 0.9785 0.9544 0.9167 0.8626 0.7890 0.6929 0.5713\n",
      "  0.4286 0.3070 0.2109 0.1373 0.0831 0.0455 0.0214 0.0077 0.0016]\n",
      " [0.9999 0.9990 0.9966 0.9905 0.9769 0.9527 0.9151 0.8610 0.7874 0.6913\n",
      "  0.5696 0.4270 0.3054 0.2092 0.1356 0.0815 0.0439 0.0198 0.0061]\n",
      " [0.9999 0.9990 0.9966 0.9920 0.9844 0.9708 0.9466 0.9090 0.8549 0.7812\n",
      "  0.6851 0.5635 0.4209 0.2993 0.2031 0.1295 0.0754 0.0377 0.0136]\n",
      " [0.9999 0.9990 0.9966 0.9920 0.9844 0.9730 0.9571 0.9330 0.8954 0.8413\n",
      "  0.7676 0.6715 0.5499 0.4073 0.2856 0.1895 0.1159 0.0617 0.0241]\n",
      " [0.9999 0.9990 0.9966 0.9920 0.9844 0.9730 0.9571 0.9360 0.9089 0.8712\n",
      "  0.8171 0.7435 0.6474 0.5258 0.3831 0.2615 0.1654 0.0917 0.0376]\n",
      " [0.9999 0.9990 0.9966 0.9920 0.9844 0.9730 0.9571 0.9360 0.9089 0.8750\n",
      "  0.8336 0.7795 0.7059 0.6098 0.4881 0.3455 0.2239 0.1278 0.0541]\n",
      " [0.9999 0.9990 0.9966 0.9920 0.9844 0.9730 0.9571 0.9360 0.9089 0.8750\n",
      "  0.8336 0.7840 0.7254 0.6518 0.5556 0.4340 0.2914 0.1698 0.0736]\n",
      " [0.9999 0.9990 0.9966 0.9920 0.9844 0.9730 0.9571 0.9360 0.9089 0.8750\n",
      "  0.8336 0.7840 0.7254 0.6570 0.5781 0.4820 0.3604 0.2177 0.0961]\n",
      " [0.9999 0.9990 0.9966 0.9920 0.9844 0.9730 0.9571 0.9360 0.9089 0.8750\n",
      "  0.8336 0.7840 0.7254 0.6570 0.5781 0.4880 0.3859 0.2642 0.1216]\n",
      " [0.9999 0.9990 0.9966 0.9920 0.9844 0.9730 0.9571 0.9360 0.9089 0.8750\n",
      "  0.8336 0.7840 0.7254 0.6570 0.5781 0.4880 0.3859 0.2710 0.1426]]\n"
     ]
    }
   ],
   "source": [
    "# For cleaner output\n",
    "float_formatter = \"{:.4f}\".format\n",
    "np.set_printoptions(formatter={'float_kind':float_formatter})\n",
    "\n",
    "# Presto!\n",
    "print(success_table)"
   ]
  }
 ],
 "metadata": {
  "kernelspec": {
   "display_name": "Python 3",
   "language": "python",
   "name": "python3"
  },
  "language_info": {
   "codemirror_mode": {
    "name": "ipython",
    "version": 3
   },
   "file_extension": ".py",
   "mimetype": "text/x-python",
   "name": "python",
   "nbconvert_exporter": "python",
   "pygments_lexer": "ipython3",
   "version": "3.7.6"
  }
 },
 "nbformat": 4,
 "nbformat_minor": 4
}
