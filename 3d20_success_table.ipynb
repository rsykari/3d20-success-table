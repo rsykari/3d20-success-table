{
 "cells": [
  {
   "cell_type": "markdown",
   "metadata": {},
   "source": [
    "### 3d20 dice roll success table\n",
    "\n",
    "This code can be used to create an array that contains probabilities of success when rolling 3 20-sided die and comparing the results against 2 different values, a skill value and a difficulty class. It can be a useful reference for a tabletop game depending on its rules.\n",
    "\n",
    "The skill value represents a character's aptitude for the check, from 1 to 20. \n",
    "The difficulty class represents the extent of the dice challenge, from 2 to 20.\n",
    "\n",
    "The code isn't optimized at all, since it only needs to run once to give the results. It outputs a 2D array that contains probabilities of success for each possible instance of skill and difficulty."
   ]
  },
  {
   "cell_type": "code",
   "execution_count": 412,
   "metadata": {},
   "outputs": [],
   "source": [
    "import numpy as np\n",
    "\n",
    "## Define the problem\n",
    "sizeof_die = 20\n",
    "nof_dice = 3\n",
    "outcomes = sizeof_die ** nof_dice\n",
    "\n",
    "## Define and initialize the dimensions of a sample space\n",
    "sample_space = np.zeros(shape=(outcomes, nof_dice), dtype=int)\n",
    "\n",
    "## For cleaner output\n",
    "float_formatter = \"{:.4f}\".format\n",
    "np.set_printoptions(formatter={'float_kind':float_formatter})"
   ]
  },
  {
   "cell_type": "code",
   "execution_count": 413,
   "metadata": {},
   "outputs": [],
   "source": [
    "## assign proper dice values to the sample space\n",
    "for x in range (0, 20):\n",
    "    for y in range (0, 20):\n",
    "        for z in range (0, 20):\n",
    "            sample_space[400*x + 20*y + z] = [x+1, y+1, z+1]"
   ]
  },
  {
   "cell_type": "code",
   "execution_count": 414,
   "metadata": {},
   "outputs": [
    {
     "name": "stdout",
     "output_type": "stream",
     "text": [
      "[[ 1  1  1]\n",
      " [ 1  1  2]\n",
      " [ 1  1  3]\n",
      " ...\n",
      " [20 20 18]\n",
      " [20 20 19]\n",
      " [20 20 20]]\n"
     ]
    }
   ],
   "source": [
    "print(sample_space)"
   ]
  },
  {
   "cell_type": "code",
   "execution_count": 415,
   "metadata": {},
   "outputs": [],
   "source": [
    "## Checks the successfulness of a dice roll, given \n",
    "## a sample, the skill rank and the difficulty class.\n",
    "## Currently works with 3d20 rolls only\n",
    "def check_success(sample, skill, dc):\n",
    "    \n",
    "    ## Store dice rolls for comparison\n",
    "    A = sample[0]\n",
    "    B = sample[1]\n",
    "    C = sample[2]\n",
    "    ## Calculate roll distance from skill value\n",
    "    a = np.abs(np.subtract(A, skill))\n",
    "    b = np.abs(np.subtract(B, skill))\n",
    "    c = np.abs(np.subtract(C, skill))\n",
    "    \n",
    "    ## Select the dice value closest to the skill value, \n",
    "    ## or the highest dice value in case of a tie\n",
    "    if a < b:\n",
    "        t = a\n",
    "        T = A\n",
    "    elif a > b:\n",
    "        t = b\n",
    "        T = B\n",
    "    else: \n",
    "        if A > B:\n",
    "            t = a\n",
    "            T = A\n",
    "        else:\n",
    "            t = b\n",
    "            T = B\n",
    "        \n",
    "    if c < t:\n",
    "        result = C\n",
    "    elif c > t:\n",
    "        result = T\n",
    "    else:\n",
    "        if C > T:\n",
    "            result = C\n",
    "        else:\n",
    "            result = T\n",
    "    \n",
    "    ## Check to see if the resultant dice value meets or exceeds the required difficulty\n",
    "    if result >= dc:\n",
    "        return 1 ## success\n",
    "    else:\n",
    "        return 0 ## failure"
   ]
  },
  {
   "cell_type": "code",
   "execution_count": 416,
   "metadata": {},
   "outputs": [],
   "source": [
    "## Calculates the probability of success, given \n",
    "## the sample space, skill level and roll difficulty class\n",
    "def check_probability(sample_space, skill, dc):\n",
    "    count = 0\n",
    "    checks = len(sample_space)\n",
    "    for x in range(0, checks):\n",
    "        count += check_success(sample_space[x], skill, dc)\n",
    "        \n",
    "    return count / checks"
   ]
  },
  {
   "cell_type": "code",
   "execution_count": 417,
   "metadata": {},
   "outputs": [
    {
     "name": "stdout",
     "output_type": "stream",
     "text": [
      "0.999125\n"
     ]
    }
   ],
   "source": [
    "print(check_probability(sample_space, 10, 2))"
   ]
  },
  {
   "cell_type": "code",
   "execution_count": 428,
   "metadata": {},
   "outputs": [],
   "source": [
    "success_table = np.zeros(shape=(sizeof_die, sizeof_die - 1), dtype=float)\n",
    "\n",
    "for x in range (0, sizeof_die):\n",
    "    for y in range (0, sizeof_die - 1):\n",
    "        success_table[x, y] = check_probability(sample_space, x+1, y+2)"
   ]
  },
  {
   "cell_type": "code",
   "execution_count": 429,
   "metadata": {},
   "outputs": [
    {
     "name": "stdout",
     "output_type": "stream",
     "text": [
      "[[0.8574 0.7290 0.6141 0.5120 0.4219 0.3430 0.2746 0.2160 0.1664 0.1250\n",
      "  0.0911 0.0640 0.0429 0.0270 0.0156 0.0080 0.0034 0.0010 0.0001]\n",
      " [0.8851 0.7425 0.6141 0.5120 0.4219 0.3430 0.2746 0.2160 0.1664 0.1250\n",
      "  0.0911 0.0640 0.0429 0.0270 0.0156 0.0080 0.0034 0.0010 0.0001]\n",
      " [0.9099 0.7950 0.6524 0.5240 0.4219 0.3430 0.2746 0.2160 0.1664 0.1250\n",
      "  0.0911 0.0640 0.0429 0.0270 0.0156 0.0080 0.0034 0.0010 0.0001]\n",
      " [0.9316 0.8415 0.7266 0.5840 0.4556 0.3535 0.2746 0.2160 0.1664 0.1250\n",
      "  0.0911 0.0640 0.0429 0.0270 0.0156 0.0080 0.0034 0.0010 0.0001]\n",
      " [0.9504 0.8820 0.7919 0.6770 0.5344 0.4060 0.3039 0.2250 0.1664 0.1250\n",
      "  0.0911 0.0640 0.0429 0.0270 0.0156 0.0080 0.0034 0.0010 0.0001]\n",
      " [0.9661 0.9165 0.8481 0.7580 0.6431 0.5005 0.3721 0.2700 0.1911 0.1325\n",
      "  0.0911 0.0640 0.0429 0.0270 0.0156 0.0080 0.0034 0.0010 0.0001]\n",
      " [0.9789 0.9450 0.8954 0.8270 0.7369 0.6220 0.4794 0.3510 0.2489 0.1700\n",
      "  0.1114 0.0700 0.0429 0.0270 0.0156 0.0080 0.0034 0.0010 0.0001]\n",
      " [0.9886 0.9675 0.9336 0.8840 0.8156 0.7255 0.6106 0.4680 0.3396 0.2375\n",
      "  0.1586 0.1000 0.0586 0.0315 0.0156 0.0080 0.0034 0.0010 0.0001]\n",
      " [0.9954 0.9840 0.9629 0.9290 0.8794 0.8110 0.7209 0.6060 0.4634 0.3350\n",
      "  0.2329 0.1540 0.0954 0.0540 0.0269 0.0110 0.0034 0.0010 0.0001]\n",
      " [0.9991 0.9945 0.9831 0.9620 0.9281 0.8785 0.8101 0.7200 0.6051 0.4625\n",
      "  0.3341 0.2320 0.1531 0.0945 0.0531 0.0260 0.0101 0.0025 0.0001]\n",
      " [0.9999 0.9990 0.9944 0.9830 0.9619 0.9280 0.8784 0.8100 0.7199 0.6050\n",
      "  0.4624 0.3340 0.2319 0.1530 0.0944 0.0530 0.0259 0.0100 0.0024]\n",
      " [0.9999 0.9990 0.9966 0.9920 0.9806 0.9595 0.9256 0.8760 0.8076 0.7175\n",
      "  0.6026 0.4600 0.3316 0.2295 0.1506 0.0920 0.0506 0.0235 0.0076]\n",
      " [0.9999 0.9990 0.9966 0.9920 0.9844 0.9730 0.9519 0.9180 0.8684 0.8000\n",
      "  0.7099 0.5950 0.4524 0.3240 0.2219 0.1430 0.0844 0.0430 0.0159]\n",
      " [0.9999 0.9990 0.9966 0.9920 0.9844 0.9730 0.9571 0.9360 0.9021 0.8525\n",
      "  0.7841 0.6940 0.5791 0.4365 0.3081 0.2060 0.1271 0.0685 0.0271]\n",
      " [0.9999 0.9990 0.9966 0.9920 0.9844 0.9730 0.9571 0.9360 0.9089 0.8750\n",
      "  0.8254 0.7570 0.6669 0.5520 0.4094 0.2810 0.1789 0.1000 0.0414]\n",
      " [0.9999 0.9990 0.9966 0.9920 0.9844 0.9730 0.9571 0.9360 0.9089 0.8750\n",
      "  0.8336 0.7840 0.7156 0.6255 0.5106 0.3680 0.2396 0.1375 0.0586]\n",
      " [0.9999 0.9990 0.9966 0.9920 0.9844 0.9730 0.9571 0.9360 0.9089 0.8750\n",
      "  0.8336 0.7840 0.7254 0.6570 0.5669 0.4520 0.3094 0.1810 0.0789]\n",
      " [0.9999 0.9990 0.9966 0.9920 0.9844 0.9730 0.9571 0.9360 0.9089 0.8750\n",
      "  0.8336 0.7840 0.7254 0.6570 0.5781 0.4880 0.3731 0.2305 0.1021]\n",
      " [0.9999 0.9990 0.9966 0.9920 0.9844 0.9730 0.9571 0.9360 0.9089 0.8750\n",
      "  0.8336 0.7840 0.7254 0.6570 0.5781 0.4880 0.3859 0.2710 0.1284]\n",
      " [0.9999 0.9990 0.9966 0.9920 0.9844 0.9730 0.9571 0.9360 0.9089 0.8750\n",
      "  0.8336 0.7840 0.7254 0.6570 0.5781 0.4880 0.3859 0.2710 0.1426]]\n"
     ]
    }
   ],
   "source": [
    "## Presto!\n",
    "print(success_table)"
   ]
  }
 ],
 "metadata": {
  "kernelspec": {
   "display_name": "Python 3",
   "language": "python",
   "name": "python3"
  },
  "language_info": {
   "codemirror_mode": {
    "name": "ipython",
    "version": 3
   },
   "file_extension": ".py",
   "mimetype": "text/x-python",
   "name": "python",
   "nbconvert_exporter": "python",
   "pygments_lexer": "ipython3",
   "version": "3.7.6"
  }
 },
 "nbformat": 4,
 "nbformat_minor": 4
}
